{
 "cells": [
  {
   "cell_type": "code",
   "execution_count": 16,
   "id": "aaab8924",
   "metadata": {},
   "outputs": [
    {
     "name": "stdout",
     "output_type": "stream",
     "text": [
      "Enter some text: hello1\n",
      "Enter some text: hello2\n",
      "Enter some text: hello3\n",
      "Enter some text: hello4\n",
      "Enter some text: \n",
      "('2023040102:58:50', 'hello1')\n",
      "('2023040102:58:53', 'hello2')\n",
      "('2023040102:58:56', 'hello3')\n",
      "('2023040102:58:59', 'hello4')\n"
     ]
    }
   ],
   "source": [
    "import sqlite3\n",
    "import datetime\n",
    "\n",
    "# Create connection to the database\n",
    "db = sqlite3.connect('now.db')\n",
    "# Create a table to store the key-value pairs if it doesn't exist\n",
    "db.execute('''\n",
    "CREATE TABLE IF NOT EXISTS fammi_capire (\n",
    "key TEXT PRIMARY KEY,\n",
    "value TEXT\n",
    ")\n",
    "''')\n",
    "\n",
    "while True:\n",
    "    value = input(\"Enter some text: \")\n",
    "\n",
    "    if value == \"\":\n",
    "        break\n",
    "\n",
    "    current_time = datetime.datetime.now()\n",
    "    current_time_str = current_time.strftime(\"%Y%m%d%H:%M:%S\")\n",
    "    \n",
    "    # Insert the key-value pair into .txt file\n",
    "    with open('data.txt', 'a') as file:\n",
    "        file.write(f\"{current_time_str}: {value}\\n\")\n",
    "        \n",
    "    # Insert the key-value pair into the database\n",
    "    db.execute(\"INSERT INTO fammi_capire (key, value) VALUES (?, ?)\", (current_time_str, value))\n",
    "    db.commit()\n",
    "\n",
    "# Retrieve all the key-value pairs from the database and print them\n",
    "cursor = db.cursor()\n",
    "cursor.execute(\"SELECT * FROM fammi_capire\")\n",
    "results = cursor.fetchall()\n",
    "for row in results:\n",
    "    print(row)\n",
    "\n",
    "# Close the connection to the database\n",
    "db.close()\n"
   ]
  },
  {
   "cell_type": "code",
   "execution_count": null,
   "id": "51719a70",
   "metadata": {},
   "outputs": [],
   "source": []
  }
 ],
 "metadata": {
  "kernelspec": {
   "display_name": "Python 3 (ipykernel)",
   "language": "python",
   "name": "python3"
  },
  "language_info": {
   "codemirror_mode": {
    "name": "ipython",
    "version": 3
   },
   "file_extension": ".py",
   "mimetype": "text/x-python",
   "name": "python",
   "nbconvert_exporter": "python",
   "pygments_lexer": "ipython3",
   "version": "3.9.12"
  }
 },
 "nbformat": 4,
 "nbformat_minor": 5
}
